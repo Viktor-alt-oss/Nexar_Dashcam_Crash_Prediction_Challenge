{
 "cells": [
  {
   "cell_type": "code",
   "execution_count": 2,
   "id": "7ffe0edf-8fdf-422f-8210-e91787dddd65",
   "metadata": {},
   "outputs": [],
   "source": [
    "import cv2\n",
    "import numpy as np\n",
    "import os\n",
    "import pandas as pd\n",
    "import torch\n",
    "import torch.nn as nn\n",
    "import torch.nn.functional as F"
   ]
  },
  {
   "cell_type": "code",
   "execution_count": 3,
   "id": "c4dae941-6dc8-4f10-b8a7-9f0b047f6927",
   "metadata": {},
   "outputs": [
    {
     "name": "stdout",
     "output_type": "stream",
     "text": [
      "Simple custom NN initialized and set to eval mode.\n"
     ]
    }
   ],
   "source": [
    "class SimpleCrashNN(nn.Module):\n",
    "    def __init__(self):\n",
    "        super(SimpleCrashNN, self).__init__()\n",
    "        self.conv1 = nn.Conv3d(in_channels=3, out_channels=8, kernel_size=3, padding=1)\n",
    "        self.bn1 = nn.BatchNorm3d(8)\n",
    "        self.conv2 = nn.Conv3d(in_channels=8, out_channels=16, kernel_size=3, padding=1)\n",
    "        self.bn2 = nn.BatchNorm3d(16)\n",
    "        self.pool = nn.AdaptiveAvgPool3d(1)\n",
    "        self.fc = nn.Linear(16, 1)\n",
    "    \n",
    "    def forward(self, x):\n",
    "        x = F.relu(self.bn1(self.conv1(x)))  # shape: (B, 8, T, H, W)\n",
    "        x = F.relu(self.bn2(self.conv2(x)))  # shape: (B, 16, T, H, W)\n",
    "        x = self.pool(x)                     # shape: (B, 16, 1, 1, 1)\n",
    "        x = x.view(x.size(0), -1)            # flatten to (B, 16)\n",
    "        x = self.fc(x)                       # shape: (B, 1)\n",
    "        return torch.sigmoid(x)              # probability in [0, 1]\n",
    "\n",
    "# Instantiate the model and move it to device\n",
    "device = torch.device(\"cuda\" if torch.cuda.is_available() else \"cpu\")\n",
    "model = SimpleCrashNN().to(device)\n",
    "model.eval()  # Set model to evaluation mode\n",
    "print(\"Simple custom NN initialized and set to eval mode.\")"
   ]
  },
  {
   "cell_type": "code",
   "execution_count": 4,
   "id": "d8a3d5f4-5057-46c0-9147-a3c4edccca39",
   "metadata": {},
   "outputs": [
    {
     "name": "stdout",
     "output_type": "stream",
     "text": [
      "Training data loaded. Number of training videos: 1500\n",
      "Test data loaded. Number of test videos: 1344\n"
     ]
    }
   ],
   "source": [
    "# Cell 3: Load training and test CSV files\n",
    "train_df = pd.read_csv('../DATA/train.csv')\n",
    "test_df = pd.read_csv('../DATA/test.csv')\n",
    "print(\"Training data loaded. Number of training videos:\", len(train_df))\n",
    "print(\"Test data loaded. Number of test videos:\", len(test_df))"
   ]
  },
  {
   "cell_type": "code",
   "execution_count": 5,
   "id": "1ac85be5-eef5-488f-8989-19c70687df43",
   "metadata": {},
   "outputs": [],
   "source": [
    "def extract_frames(video_path, num_frames=16, resize=(224, 224)):\n",
    "    cap = cv2.VideoCapture(video_path)\n",
    "    if not cap.isOpened():\n",
    "        print(f\"Error opening video file: {video_path}\")\n",
    "        return None\n",
    "\n",
    "    total_frames = int(cap.get(cv2.CAP_PROP_FRAME_COUNT))\n",
    "    frame_indices = np.linspace(0, total_frames - 1, num_frames, dtype=int)\n",
    "    \n",
    "    frames = []\n",
    "    for idx in range(total_frames):\n",
    "        ret, frame = cap.read()\n",
    "        if not ret:\n",
    "            break\n",
    "        if idx in frame_indices:\n",
    "            frame = cv2.resize(frame, resize)\n",
    "            frame = cv2.cvtColor(frame, cv2.COLOR_BGR2RGB)\n",
    "            frame = frame.astype(np.float32) / 255.0  # Normalize pixels to [0, 1]\n",
    "            frames.append(frame)\n",
    "    cap.release()\n",
    "    \n",
    "    if len(frames) < num_frames:\n",
    "        # Duplicate last frame if video is too short\n",
    "        while len(frames) < num_frames:\n",
    "            frames.append(frames[-1])\n",
    "    \n",
    "    # Convert frames to tensor and rearrange: (T, H, W, C) -> (B, C, T, H, W)\n",
    "    frames = np.stack(frames, axis=0)           # (T, H, W, C)\n",
    "    frames = np.transpose(frames, (3, 0, 1, 2))   # (C, T, H, W)\n",
    "    frames_tensor = torch.from_numpy(frames).unsqueeze(0)\n",
    "    return frames_tensor"
   ]
  },
  {
   "cell_type": "code",
   "execution_count": 6,
   "id": "d004045b-b2b7-4245-a167-97b4e2a56150",
   "metadata": {},
   "outputs": [],
   "source": [
    "def predict_video(video_path):\n",
    "    frames_tensor = extract_frames(video_path, num_frames=16, resize=(224,224))\n",
    "    if frames_tensor is None:\n",
    "        return 0.0  # Default probability if video processing fails\n",
    "    frames_tensor = frames_tensor.to(device)\n",
    "    with torch.no_grad():\n",
    "        output = model(frames_tensor)  # Model output shape: (B, 1)\n",
    "        prob = output.item()\n",
    "    return prob"
   ]
  },
  {
   "cell_type": "code",
   "execution_count": 7,
   "id": "48079b30-3f2f-4c6b-88c0-c0bb2d876d74",
   "metadata": {},
   "outputs": [
    {
     "name": "stdout",
     "output_type": "stream",
     "text": [
      "Processed 0 training videos...\n",
      "Processed 50 training videos...\n",
      "Processed 100 training videos...\n",
      "Processed 150 training videos...\n",
      "Processed 200 training videos...\n",
      "Processed 250 training videos...\n",
      "Processed 300 training videos...\n",
      "Processed 350 training videos...\n",
      "Processed 400 training videos...\n",
      "Processed 450 training videos...\n",
      "Processed 500 training videos...\n",
      "Processed 550 training videos...\n",
      "Processed 600 training videos...\n",
      "Processed 650 training videos...\n",
      "Processed 700 training videos...\n",
      "Processed 750 training videos...\n",
      "Processed 800 training videos...\n",
      "Processed 850 training videos...\n",
      "Processed 900 training videos...\n",
      "Processed 950 training videos...\n",
      "Processed 1000 training videos...\n",
      "Processed 1050 training videos...\n",
      "Processed 1100 training videos...\n",
      "Processed 1150 training videos...\n",
      "Processed 1200 training videos...\n",
      "Processed 1250 training videos...\n",
      "Processed 1300 training videos...\n",
      "Processed 1350 training videos...\n",
      "Processed 1400 training videos...\n",
      "Processed 1450 training videos...\n",
      "Training predictions generated.\n"
     ]
    }
   ],
   "source": [
    "# Cell 6: Generate predictions for training videos\n",
    "train_predictions = []\n",
    "\n",
    "# Training videos are stored in \"train/\" folder with filenames \"<id>.mp4\"\n",
    "for idx, row in train_df.iterrows():\n",
    "    # Convert video ID to an integer and format with leading zeros (5 digits)\n",
    "    video_id = int(float(row['id']))\n",
    "    video_filename = f\"{video_id:05d}.mp4\"  # e.g., 01924.mp4\n",
    "    video_path = os.path.join(\"../DATA/train\", video_filename)\n",
    "    prob = predict_video(video_path)\n",
    "    train_predictions.append(prob)\n",
    "    if idx % 50 == 0:\n",
    "        print(f\"Processed {idx} training videos...\")\n",
    "\n",
    "train_df['predicted_score'] = train_predictions\n",
    "print(\"Training predictions generated.\")"
   ]
  },
  {
   "cell_type": "code",
   "execution_count": 8,
   "id": "6fd0e1d8-6b93-41c8-a383-87006c0c5187",
   "metadata": {},
   "outputs": [
    {
     "name": "stdout",
     "output_type": "stream",
     "text": [
      "Processed 0 test videos...\n",
      "Processed 50 test videos...\n",
      "Processed 100 test videos...\n",
      "Processed 150 test videos...\n",
      "Processed 200 test videos...\n",
      "Processed 250 test videos...\n",
      "Processed 300 test videos...\n",
      "Processed 350 test videos...\n",
      "Processed 400 test videos...\n",
      "Processed 450 test videos...\n",
      "Processed 500 test videos...\n",
      "Processed 550 test videos...\n",
      "Processed 600 test videos...\n",
      "Processed 650 test videos...\n",
      "Processed 700 test videos...\n",
      "Processed 750 test videos...\n",
      "Processed 800 test videos...\n",
      "Processed 850 test videos...\n",
      "Processed 900 test videos...\n",
      "Processed 950 test videos...\n",
      "Processed 1000 test videos...\n",
      "Processed 1050 test videos...\n",
      "Processed 1100 test videos...\n",
      "Processed 1150 test videos...\n",
      "Processed 1200 test videos...\n",
      "Processed 1250 test videos...\n",
      "Processed 1300 test videos...\n",
      "Test predictions generated.\n"
     ]
    }
   ],
   "source": [
    "# Cell 7: Generate predictions for test videos\n",
    "test_predictions = []\n",
    "\n",
    "# Test videos are stored in \"test/\" folder with filenames \"<id>.mp4\"\n",
    "for idx, row in test_df.iterrows():\n",
    "    video_id = int(float(row['id']))\n",
    "    video_filename = f\"{video_id:05d}.mp4\"  # Format with 5 digits\n",
    "    video_path = os.path.join(\"../DATA/test\", video_filename)\n",
    "    prob = predict_video(video_path)\n",
    "    test_predictions.append(prob)\n",
    "    if idx % 50 == 0:\n",
    "        print(f\"Processed {idx} test videos...\")\n",
    "\n",
    "test_df['score'] = test_predictions\n",
    "print(\"Test predictions generated.\")"
   ]
  },
  {
   "cell_type": "code",
   "execution_count": 9,
   "id": "d00bad53-9912-4a1e-818b-7c04ca54b69e",
   "metadata": {},
   "outputs": [
    {
     "name": "stdout",
     "output_type": "stream",
     "text": [
      "Submission file 'submission.csv' created successfully.\n"
     ]
    }
   ],
   "source": [
    "submission = test_df[['id', 'score']]\n",
    "submission.to_csv('submission.csv', index=False)\n",
    "print(\"Submission file 'submission.csv' created successfully.\")"
   ]
  },
  {
   "cell_type": "code",
   "execution_count": 10,
   "id": "902f1cdd-613e-4a81-a85a-35f7df831b98",
   "metadata": {},
   "outputs": [
    {
     "data": {
      "text/html": [
       "<div>\n",
       "<style scoped>\n",
       "    .dataframe tbody tr th:only-of-type {\n",
       "        vertical-align: middle;\n",
       "    }\n",
       "\n",
       "    .dataframe tbody tr th {\n",
       "        vertical-align: top;\n",
       "    }\n",
       "\n",
       "    .dataframe thead th {\n",
       "        text-align: right;\n",
       "    }\n",
       "</style>\n",
       "<table border=\"1\" class=\"dataframe\">\n",
       "  <thead>\n",
       "    <tr style=\"text-align: right;\">\n",
       "      <th></th>\n",
       "      <th>id</th>\n",
       "      <th>score</th>\n",
       "    </tr>\n",
       "  </thead>\n",
       "  <tbody>\n",
       "    <tr>\n",
       "      <th>0</th>\n",
       "      <td>204</td>\n",
       "      <td>0.509484</td>\n",
       "    </tr>\n",
       "    <tr>\n",
       "      <th>1</th>\n",
       "      <td>30</td>\n",
       "      <td>0.510554</td>\n",
       "    </tr>\n",
       "    <tr>\n",
       "      <th>2</th>\n",
       "      <td>146</td>\n",
       "      <td>0.509772</td>\n",
       "    </tr>\n",
       "    <tr>\n",
       "      <th>3</th>\n",
       "      <td>20</td>\n",
       "      <td>0.509088</td>\n",
       "    </tr>\n",
       "    <tr>\n",
       "      <th>4</th>\n",
       "      <td>511</td>\n",
       "      <td>0.508558</td>\n",
       "    </tr>\n",
       "    <tr>\n",
       "      <th>...</th>\n",
       "      <td>...</td>\n",
       "      <td>...</td>\n",
       "    </tr>\n",
       "    <tr>\n",
       "      <th>1339</th>\n",
       "      <td>2621</td>\n",
       "      <td>0.506849</td>\n",
       "    </tr>\n",
       "    <tr>\n",
       "      <th>1340</th>\n",
       "      <td>2858</td>\n",
       "      <td>0.507239</td>\n",
       "    </tr>\n",
       "    <tr>\n",
       "      <th>1341</th>\n",
       "      <td>2625</td>\n",
       "      <td>0.507869</td>\n",
       "    </tr>\n",
       "    <tr>\n",
       "      <th>1342</th>\n",
       "      <td>2791</td>\n",
       "      <td>0.507738</td>\n",
       "    </tr>\n",
       "    <tr>\n",
       "      <th>1343</th>\n",
       "      <td>2810</td>\n",
       "      <td>0.510117</td>\n",
       "    </tr>\n",
       "  </tbody>\n",
       "</table>\n",
       "<p>1344 rows × 2 columns</p>\n",
       "</div>"
      ],
      "text/plain": [
       "        id     score\n",
       "0      204  0.509484\n",
       "1       30  0.510554\n",
       "2      146  0.509772\n",
       "3       20  0.509088\n",
       "4      511  0.508558\n",
       "...    ...       ...\n",
       "1339  2621  0.506849\n",
       "1340  2858  0.507239\n",
       "1341  2625  0.507869\n",
       "1342  2791  0.507738\n",
       "1343  2810  0.510117\n",
       "\n",
       "[1344 rows x 2 columns]"
      ]
     },
     "execution_count": 10,
     "metadata": {},
     "output_type": "execute_result"
    }
   ],
   "source": [
    "submission"
   ]
  },
  {
   "cell_type": "code",
   "execution_count": null,
   "id": "1683af75-75ff-4cef-ae0f-236a894e711d",
   "metadata": {},
   "outputs": [],
   "source": []
  }
 ],
 "metadata": {
  "kernelspec": {
   "display_name": "Python 3 (ipykernel)",
   "language": "python",
   "name": "python3"
  },
  "language_info": {
   "codemirror_mode": {
    "name": "ipython",
    "version": 3
   },
   "file_extension": ".py",
   "mimetype": "text/x-python",
   "name": "python",
   "nbconvert_exporter": "python",
   "pygments_lexer": "ipython3",
   "version": "3.12.7"
  }
 },
 "nbformat": 4,
 "nbformat_minor": 5
}
