{
 "cells": [
  {
   "cell_type": "code",
   "execution_count": 1,
   "id": "7ffe0edf-8fdf-422f-8210-e91787dddd65",
   "metadata": {},
   "outputs": [],
   "source": [
    "import pandas as pd\n",
    "import torch\n",
    "import matplotlib.pyplot as plt\n",
    "import numpy as np\n",
    "import torch\n",
    "import random\n",
    "import pickle"
   ]
  },
  {
   "cell_type": "code",
   "execution_count": 2,
   "id": "c4dae941-6dc8-4f10-b8a7-9f0b047f6927",
   "metadata": {},
   "outputs": [],
   "source": [
    "config = {\n",
    "    \"seed\": 0,\n",
    "    \"cutoff_date\": \"2020-01-01\",\n",
    "    \"test_cutoff_date\": \"2022-05-01\",\n",
    "    \"max_len\": 384,\n",
    "    \"batch_size\": 1,\n",
    "    \"learning_rate\": 1e-5,\n",
    "    \"weight_decay\": 0.0,\n",
    "    \"mixed_precision\": \"bf16\",\n",
    "    \"model_config_path\": \"../working/configs/pairwise.yaml\",  # Adjust path as needed\n",
    "    \"epochs\": 10,\n",
    "    \"cos_epoch\": 5,\n",
    "    \"loss_power_scale\": 1.0,\n",
    "    \"max_cycles\": 1,\n",
    "    \"grad_clip\": 0.1,\n",
    "    \"gradient_accumulation_steps\": 1,\n",
    "    \"d_clamp\": 30,\n",
    "    \"max_len_filter\": 9999999,\n",
    "    \"structural_violation_epoch\": 50,\n",
    "    \"balance_weight\": False,\n",
    "}"
   ]
  },
  {
   "cell_type": "code",
   "execution_count": 9,
   "id": "d8a3d5f4-5057-46c0-9147-a3c4edccca39",
   "metadata": {},
   "outputs": [],
   "source": [
    "test_data=pd.read_csv(\"../DATA/test_sequences.csv\")"
   ]
  },
  {
   "cell_type": "code",
   "execution_count": 11,
   "id": "8a6f53ef-a201-4f0c-bed7-cedf4d713dff",
   "metadata": {},
   "outputs": [],
   "source": [
    "from torch.utils.data import Dataset, DataLoader\n",
    "\n",
    "class RNADataset(Dataset):\n",
    "    def __init__(self,data):\n",
    "        self.data=data\n",
    "        self.tokens={nt:i for i,nt in enumerate('ACGU')}\n",
    "\n",
    "    def __len__(self):\n",
    "        return len(self.data)\n",
    "    \n",
    "    def __getitem__(self, idx):\n",
    "        sequence=[self.tokens[nt] for nt in (self.data.loc[idx,'sequence'])]\n",
    "        sequence=np.array(sequence)\n",
    "        sequence=torch.tensor(sequence)\n",
    "\n",
    "\n",
    "\n",
    "\n",
    "        return {'sequence':sequence}"
   ]
  },
  {
   "cell_type": "code",
   "execution_count": 12,
   "id": "e979071e-0097-44a4-ae05-8f4dfac2c329",
   "metadata": {},
   "outputs": [
    {
     "data": {
      "text/plain": [
       "{'sequence': tensor([2, 2, 2, 2, 2, 1, 1, 0, 1, 0, 2, 1, 0, 2, 0, 0, 2, 1, 2, 3, 3, 1, 0, 1,\n",
       "         2, 3, 1, 2, 1, 0, 2, 1, 1, 1, 1, 3, 2, 3, 1, 0, 2, 1, 1, 0, 3, 3, 2, 1,\n",
       "         0, 1, 3, 1, 1, 2, 2, 1, 3, 2, 1, 2, 0, 0, 3, 3, 1, 3, 2, 1, 3],\n",
       "        dtype=torch.int32)}"
      ]
     },
     "execution_count": 12,
     "metadata": {},
     "output_type": "execute_result"
    }
   ],
   "source": [
    "test_dataset=RNADataset(test_data)\n",
    "test_dataset[0]"
   ]
  },
  {
   "cell_type": "code",
   "execution_count": 19,
   "id": "d26038ae-0ac3-499b-b0a1-7a539b215bd2",
   "metadata": {},
   "outputs": [
    {
     "ename": "ModuleNotFoundError",
     "evalue": "No module named 'Network'",
     "output_type": "error",
     "traceback": [
      "\u001b[1;31m---------------------------------------------------------------------------\u001b[0m",
      "\u001b[1;31mModuleNotFoundError\u001b[0m                       Traceback (most recent call last)",
      "Cell \u001b[1;32mIn[19], line 6\u001b[0m\n\u001b[0;32m      1\u001b[0m \u001b[38;5;28;01mimport\u001b[39;00m \u001b[38;5;21;01msys\u001b[39;00m\n\u001b[0;32m      3\u001b[0m sys\u001b[38;5;241m.\u001b[39mpath\u001b[38;5;241m.\u001b[39mappend(\u001b[38;5;124m\"\u001b[39m\u001b[38;5;124m/kaggle/input/ribonanzanet2d-final\u001b[39m\u001b[38;5;124m\"\u001b[39m)\n\u001b[1;32m----> 6\u001b[0m \u001b[38;5;28;01mfrom\u001b[39;00m \u001b[38;5;21;01mNetwork\u001b[39;00m \u001b[38;5;28;01mimport\u001b[39;00m \u001b[38;5;241m*\u001b[39m\n\u001b[0;32m      7\u001b[0m \u001b[38;5;28;01mimport\u001b[39;00m \u001b[38;5;21;01myaml\u001b[39;00m\n\u001b[0;32m     11\u001b[0m \u001b[38;5;28;01mclass\u001b[39;00m \u001b[38;5;21;01mConfig\u001b[39;00m:\n",
      "\u001b[1;31mModuleNotFoundError\u001b[0m: No module named 'Network'"
     ]
    }
   ],
   "source": [
    "import sys\n",
    "\n",
    "sys.path.append(\"/kaggle/input/ribonanzanet2d-final\")\n",
    "\n",
    "\n",
    "from Network import *\n",
    "import yaml\n",
    "\n",
    "\n",
    "\n",
    "class Config:\n",
    "    def __init__(self, **entries):\n",
    "        self.__dict__.update(entries)\n",
    "        self.entries=entries\n",
    "\n",
    "    def print(self):\n",
    "        print(self.entries)\n",
    "\n",
    "def load_config_from_yaml(file_path):\n",
    "    with open(file_path, 'r') as file:\n",
    "        config = yaml.safe_load(file)\n",
    "    return Config(**config)\n",
    "\n",
    "class finetuned_RibonanzaNet(RibonanzaNet):\n",
    "    def __init__(self, config, pretrained=False):\n",
    "        config.dropout=0.2\n",
    "        super(finetuned_RibonanzaNet, self).__init__(config)\n",
    "        if pretrained:\n",
    "            self.load_state_dict(torch.load(\"/kaggle/input/ribonanzanet-weights/RibonanzaNet.pt\",map_location='cpu'))\n",
    "        # self.ct_predictor=nn.Sequential(nn.Linear(64,256),\n",
    "        #                                 nn.ReLU(),\n",
    "        #                                 nn.Linear(256,64),\n",
    "        #                                 nn.ReLU(),\n",
    "        #                                 nn.Linear(64,1)) \n",
    "        self.dropout=nn.Dropout(0.0)\n",
    "        self.xyz_predictor=nn.Linear(256,3)\n",
    "\n",
    "    def forward(self,src):\n",
    "        \n",
    "        #with torch.no_grad():\n",
    "        sequence_features, pairwise_features=self.get_embeddings(src, torch.ones_like(src).long().to(src.device))\n",
    "\n",
    "        xyz=self.xyz_predictor(sequence_features)\n",
    "\n",
    "        return xyz"
   ]
  },
  {
   "cell_type": "code",
   "execution_count": null,
   "id": "1ac85be5-eef5-488f-8989-19c70687df43",
   "metadata": {},
   "outputs": [],
   "source": []
  }
 ],
 "metadata": {
  "kernelspec": {
   "display_name": "Python 3 (ipykernel)",
   "language": "python",
   "name": "python3"
  },
  "language_info": {
   "codemirror_mode": {
    "name": "ipython",
    "version": 3
   },
   "file_extension": ".py",
   "mimetype": "text/x-python",
   "name": "python",
   "nbconvert_exporter": "python",
   "pygments_lexer": "ipython3",
   "version": "3.12.7"
  }
 },
 "nbformat": 4,
 "nbformat_minor": 5
}
